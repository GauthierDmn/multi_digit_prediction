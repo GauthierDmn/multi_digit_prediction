{
 "cells": [
  {
   "cell_type": "markdown",
   "metadata": {},
   "source": [
    "# MNIST Multi Digit Classification"
   ]
  },
  {
   "cell_type": "markdown",
   "metadata": {},
   "source": [
    "In order to get familiar with the multi digit classification task, I first worked on classifying sequences of MNIST numbers. The MNIST dataset is often used as a toy dataset: the images it contains are rather centered and without much noise, which makes the classification much more easier than using real images.\n",
    "\n",
    "In a second notebook I tackled the same problem on the much noiser Street View House Number dataset."
   ]
  },
  {
   "cell_type": "markdown",
   "metadata": {},
   "source": [
    "## 1. Creation of the multi-digit number MNIST dataset"
   ]
  },
  {
   "cell_type": "markdown",
   "metadata": {},
   "source": [
    "In this part I used MNIST images to create a new dataset consisting on images of size 28x140 representing multi-digit numbers of length up to 5. To do so, I picked random images from the MNIST dataset and concatenated them."
   ]
  },
  {
   "cell_type": "code",
   "execution_count": 2,
   "metadata": {
    "collapsed": true
   },
   "outputs": [],
   "source": [
    "from __future__ import print_function\n",
    "import numpy as np\n",
    "import tensorflow as tf\n",
    "from six.moves import cPickle as pickle\n",
    "from six.moves import range\n",
    "from tensorflow.examples.tutorials.mnist import input_data\n",
    "import matplotlib.pyplot as plt\n",
    "import os\n",
    "from six.moves.urllib.request import urlretrieve\n",
    "import tarfile\n",
    "import sys\n",
    "import scipy.io as sio\n",
    "%matplotlib inline"
   ]
  },
  {
   "cell_type": "markdown",
   "metadata": {},
   "source": [
    "We first extract the MNIST dataset from the Tensorflow tutorial's datasets:"
   ]
  },
  {
   "cell_type": "code",
   "execution_count": 3,
   "metadata": {
    "collapsed": false
   },
   "outputs": [
    {
     "name": "stdout",
     "output_type": "stream",
     "text": [
      "Extracting MNIST_data/train-images-idx3-ubyte.gz\n",
      "Extracting MNIST_data/train-labels-idx1-ubyte.gz\n",
      "Extracting MNIST_data/t10k-images-idx3-ubyte.gz\n",
      "Extracting MNIST_data/t10k-labels-idx1-ubyte.gz\n"
     ]
    }
   ],
   "source": [
    "mnist = input_data.read_data_sets(\"MNIST_data/\", one_hot=True)"
   ]
  },
  {
   "cell_type": "markdown",
   "metadata": {},
   "source": [
    "Then we create a dataset of 55 000 28x150 images concatenating MNIST images. Each image contains a number between 0 and 99999."
   ]
  },
  {
   "cell_type": "code",
   "execution_count": 4,
   "metadata": {
    "collapsed": false
   },
   "outputs": [],
   "source": [
    "empty = np.zeros((28, 28), dtype = np.float32)\n",
    "empty_label = np.eye(11)[10,:]\n",
    "possible_elements = [5, 4, 3, 2, 1]\n",
    "\n",
    "concatenated_images = []\n",
    "concatenated_labels = []\n",
    "concatenated_lengths = []\n",
    "total_elements = 0\n",
    "elements_count = -1\n",
    "while(total_elements != 55000):\n",
    "    labels_added = 1\n",
    "    elements_count = (elements_count + 1)%5\n",
    "    no_elements = possible_elements[elements_count]\n",
    "    \n",
    "    if(total_elements>54995 and total_elements + no_elements > 55000):\n",
    "        break\n",
    "    batch = mnist.train.next_batch(no_elements)\n",
    "    image = np.split(batch[0][0], 28)\n",
    "    label = [np.append(batch[1][0],0.)]\n",
    "    for digit in range(1, no_elements):\n",
    "        image = np.hstack((image, np.split(batch[0][digit], 28)))\n",
    "        label.append(np.append(batch[1][digit],0.).tolist())\n",
    "        labels_added += 1\n",
    "    for digit in range(5-no_elements):\n",
    "        image = np.hstack((image, empty))\n",
    "        label.append(empty_label)\n",
    "        \n",
    "    length = np.zeros(5)\n",
    "    length[labels_added-1] = 1.0\n",
    "    \n",
    "    concatenated_images.append(image)\n",
    "    concatenated_labels.append(label)\n",
    "    concatenated_lengths.append(length)\n",
    "    total_elements += no_elements"
   ]
  },
  {
   "cell_type": "code",
   "execution_count": 5,
   "metadata": {
    "collapsed": false
   },
   "outputs": [
    {
     "data": {
      "text/plain": [
       "<matplotlib.image.AxesImage at 0x142417c50>"
      ]
     },
     "execution_count": 5,
     "metadata": {},
     "output_type": "execute_result"
    },
    {
     "data": {
      "image/png": "[encoded data removed]",
      "text/plain": [
       "<matplotlib.figure.Figure at 0x1039ed400>"
      ]
     },
     "metadata": {},
     "output_type": "display_data"
    }
   ],
   "source": [
    "# An example of created image\n",
    "plt.imshow(concatenated_images[11])"
   ]
  },
  {
   "cell_type": "markdown",
   "metadata": {},
   "source": [
    "Now we save the images, labels and length in pickle files:"
   ]
  },
  {
   "cell_type": "code",
   "execution_count": null,
   "metadata": {
    "collapsed": true
   },
   "outputs": [],
   "source": [
    "set_images_filename = 'images.pickle'\n",
    "set_labels_filename = 'labels.pickle'\n",
    "set_lengths_filename = 'lengths.pickle'\n",
    "def maybe_pickle(set_filename, data):\n",
    "    try:\n",
    "        with open(set_filename, 'wb') as f:\n",
    "            pickle.dump(data, f, pickle.HIGHEST_PROTOCOL)\n",
    "    except Exception as e:\n",
    "        print('Unable to save data to', set_filename, ':', e)\n",
    "\n",
    "maybe_pickle(set_images_filename, concatenated_images)\n",
    "maybe_pickle(set_labels_filename, concatenated_labels)\n",
    "maybe_pickle(set_lengths_filename, concatenated_lengths)"
   ]
  },
  {
   "cell_type": "markdown",
   "metadata": {},
   "source": [
    "## 2. Data Preprocessing"
   ]
  },
  {
   "cell_type": "markdown",
   "metadata": {},
   "source": [
    "In this section we first load the data, split it into train and test datasets, and finally reformat it."
   ]
  },
  {
   "cell_type": "code",
   "execution_count": 6,
   "metadata": {
    "collapsed": true
   },
   "outputs": [],
   "source": [
    "pickle_file = ['images.pickle', 'labels.pickle', 'lengths.pickle']\n",
    "\n",
    "with open(pickle_file[0], 'rb') as f:\n",
    "    dataset = pickle.load(f)\n",
    "\n",
    "with open(pickle_file[1], 'rb') as f:\n",
    "    labels = pickle.load(f)\n",
    "\n",
    "with open(pickle_file[2], 'rb') as f:\n",
    "    lengths = pickle.load(f)"
   ]
  },
  {
   "cell_type": "code",
   "execution_count": 7,
   "metadata": {
    "collapsed": false
   },
   "outputs": [
    {
     "name": "stdout",
     "output_type": "stream",
     "text": [
      "Training set (16498, 28, 140) (16498, 5, 11) (16498, 5)\n",
      "Test set (1834, 28, 140) (1834, 5, 11) (1834, 5)\n"
     ]
    }
   ],
   "source": [
    "# We take 90% of the data for training and 10% for testing\n",
    "split = int(len(dataset)*0.9)\n",
    "\n",
    "train_dataset = np.asarray(dataset[:split]) \n",
    "test_dataset = np.asarray(dataset[split:])\n",
    "train_labels = np.squeeze(np.asarray(labels[:split])) \n",
    "test_labels = np.squeeze(np.asarray(labels[split:]))\n",
    "train_lengths = np.asarray(lengths)[:split,:]\n",
    "test_lengths = np.asarray(lengths)[split:,:]\n",
    "\n",
    "print('Training set', train_dataset.shape, train_labels.shape, train_lengths.shape)\n",
    "print('Test set', test_dataset.shape, test_labels.shape, test_lengths.shape)"
   ]
  },
  {
   "cell_type": "code",
   "execution_count": 8,
   "metadata": {
    "collapsed": false
   },
   "outputs": [
    {
     "name": "stdout",
     "output_type": "stream",
     "text": [
      "Training set (16498, 28, 140, 1) (16498, 5, 11) (16498, 5)\n",
      "Test set (1834, 28, 140, 1) (1834, 5, 11) (1834, 5)\n"
     ]
    }
   ],
   "source": [
    "#We add the unique channel as a 4th dimension\n",
    "\n",
    "image_size = 28\n",
    "num_channels = 1 # grayscale\n",
    "\n",
    "def reformat_dataset(dataset):\n",
    "    dataset = dataset.reshape(\n",
    "    (-1, image_size, image_size*5, num_channels)).astype(np.float32)\n",
    "    return dataset\n",
    "\n",
    "train_dataset = reformat_dataset(train_dataset)\n",
    "test_dataset = reformat_dataset(test_dataset)\n",
    "print('Training set', train_dataset.shape, train_labels.shape, train_lengths.shape)\n",
    "print('Test set', test_dataset.shape, test_labels.shape, test_lengths.shape)"
   ]
  },
  {
   "cell_type": "code",
   "execution_count": 9,
   "metadata": {
    "collapsed": false
   },
   "outputs": [
    {
     "data": {
      "text/plain": [
       "<matplotlib.image.AxesImage at 0x142773208>"
      ]
     },
     "execution_count": 9,
     "metadata": {},
     "output_type": "execute_result"
    },
    {
     "data": {
      "image/png": "[encoded data removed]",
      "text/plain": [
       "<matplotlib.figure.Figure at 0x1424247f0>"
      ]
     },
     "metadata": {},
     "output_type": "display_data"
    }
   ],
   "source": [
    "plt.imshow(train_dataset[126,:,:,:].reshape((28,140)), cmap='binary')"
   ]
  },
  {
   "cell_type": "markdown",
   "metadata": {},
   "source": [
    "## 3. Model Training"
   ]
  },
  {
   "cell_type": "markdown",
   "metadata": {},
   "source": [
    "Now we train a Deep CNN to classify these images:"
   ]
  },
  {
   "cell_type": "code",
   "execution_count": 10,
   "metadata": {
    "collapsed": true
   },
   "outputs": [],
   "source": [
    "def accuracy(predictions, labels):\n",
    "    return (100.0 * np.sum(np.argmax(predictions, 1) == np.argmax(labels, 1))\n",
    "          / predictions.shape[0])"
   ]
  },
  {
   "cell_type": "code",
   "execution_count": 12,
   "metadata": {
    "collapsed": false
   },
   "outputs": [],
   "source": [
    "batch_size = 64\n",
    "patch_size = 5\n",
    "depth = 64\n",
    "num_hidden = 128\n",
    "image_size = 28\n",
    "\n",
    "graph = tf.Graph()\n",
    "\n",
    "with graph.as_default():\n",
    "\n",
    "    # Input data.\n",
    "    tf_train_dataset = tf.placeholder(\n",
    "    tf.float32, shape=(batch_size, image_size, image_size*5, num_channels))\n",
    "    tf_train_lengths = tf.placeholder(tf.float32, shape=(batch_size, 5))\n",
    "    tf_train_labels1 = tf.placeholder(tf.float32, shape=(batch_size, 11))\n",
    "    tf_train_labels2 = tf.placeholder(tf.float32, shape=(batch_size, 11))\n",
    "    tf_train_labels3 = tf.placeholder(tf.float32, shape=(batch_size, 11))\n",
    "    tf_train_labels4 = tf.placeholder(tf.float32, shape=(batch_size, 11))\n",
    "    tf_train_labels5 = tf.placeholder(tf.float32, shape=(batch_size, 11))\n",
    "    tf_test_dataset = tf.constant(test_dataset)\n",
    "  \n",
    "    # Variables.\n",
    "    layer1_weights = tf.get_variable('layer1',\n",
    "      [patch_size, patch_size, num_channels, depth], initializer=tf.contrib.layers.xavier_initializer_conv2d())\n",
    "    layer1_biases = tf.Variable(tf.zeros([depth]))\n",
    "    layer2_weights = tf.get_variable('layer2',\n",
    "      [patch_size, patch_size, depth, depth], initializer=tf.contrib.layers.xavier_initializer_conv2d())\n",
    "    layer2_biases = tf.Variable(tf.constant(1.0, shape=[depth]))\n",
    "    layer3_weights = tf.get_variable('layer3',\n",
    "      [1152, num_hidden], initializer=tf.contrib.layers.xavier_initializer_conv2d())\n",
    "    layer3_biases = tf.Variable(tf.constant(1.0, shape=[num_hidden]))\n",
    "    layer4_weights = tf.get_variable('layer4',\n",
    "      [num_hidden, 5], initializer=tf.contrib.layers.xavier_initializer_conv2d())\n",
    "    layer4_biases = tf.Variable(tf.constant(1.0, shape=[5]))\n",
    "    layer5_weights = tf.get_variable('layer5',\n",
    "      [num_hidden, 11], initializer=tf.contrib.layers.xavier_initializer_conv2d())\n",
    "    layer5_biases = tf.Variable(tf.constant(1.0, shape=[11]))\n",
    "    layer6_weights = tf.get_variable('layer6',\n",
    "      [num_hidden, 11], initializer=tf.contrib.layers.xavier_initializer_conv2d())\n",
    "    layer6_biases = tf.Variable(tf.constant(1.0, shape=[11]))\n",
    "    layer7_weights = tf.get_variable('layer7',\n",
    "      [num_hidden, 11], initializer=tf.contrib.layers.xavier_initializer_conv2d())\n",
    "    layer7_biases = tf.Variable(tf.constant(1.0, shape=[11]))\n",
    "    layer8_weights = tf.get_variable('layer8',\n",
    "      [num_hidden, 11], initializer=tf.contrib.layers.xavier_initializer_conv2d())\n",
    "    layer8_biases = tf.Variable(tf.constant(1.0, shape=[11]))\n",
    "    layer9_weights = tf.get_variable('layer9',\n",
    "      [num_hidden, 11], initializer=tf.contrib.layers.xavier_initializer_conv2d())\n",
    "    layer9_biases = tf.Variable(tf.constant(1.0, shape=[11]))\n",
    "  \n",
    "    # Model.\n",
    "    def model(data, layer_weights, layer_biases):\n",
    "        \n",
    "        conv = tf.nn.conv2d(data, layer1_weights, [1, 2, 2, 1], padding='SAME')\n",
    "        hidden = tf.nn.relu(conv + layer1_biases)\n",
    "        pool = tf.nn.max_pool(hidden, [1, 2, 2, 1], [1, 2, 2, 1], 'SAME')\n",
    "        \n",
    "        conv = tf.nn.conv2d(pool, layer2_weights, [1, 2, 2, 1], padding='SAME')\n",
    "        hidden = tf.nn.relu(conv + layer2_biases)\n",
    "        pool = tf.nn.max_pool(hidden, [1, 2, 2, 1], [1, 2, 2, 1], 'SAME')\n",
    "        \n",
    "        shape = pool.get_shape().as_list()\n",
    "        reshape = tf.reshape(pool, [shape[0], shape[1] * shape[2] * shape[3]])\n",
    "        hidden = tf.nn.relu(tf.matmul(reshape, layer3_weights) + layer3_biases)\n",
    "        \n",
    "        return tf.matmul(hidden, layer_weights) + layer_biases\n",
    "  \n",
    "    # Training computation.\n",
    "    logits1 = model(tf_train_dataset, layer4_weights, layer4_biases)\n",
    "    loss1 = tf.reduce_mean(\n",
    "    tf.nn.softmax_cross_entropy_with_logits(labels=tf_train_lengths, logits=logits1))\n",
    "    \n",
    "    logits2 = model(tf_train_dataset, layer5_weights, layer5_biases)\n",
    "    loss2 = tf.reduce_mean(\n",
    "    tf.nn.softmax_cross_entropy_with_logits(labels=tf_train_labels1, logits=logits2))\n",
    "    \n",
    "    logits3 = model(tf_train_dataset, layer6_weights, layer6_biases)\n",
    "    loss3 = tf.reduce_mean(\n",
    "    tf.nn.softmax_cross_entropy_with_logits(labels=tf_train_labels2, logits=logits3))\n",
    "    \n",
    "    logits4 = model(tf_train_dataset, layer7_weights, layer7_biases)\n",
    "    loss4 = tf.reduce_mean(\n",
    "    tf.nn.softmax_cross_entropy_with_logits(labels=tf_train_labels3, logits=logits4))\n",
    "    \n",
    "    logits5 = model(tf_train_dataset, layer8_weights, layer8_biases)\n",
    "    loss5 = tf.reduce_mean(\n",
    "    tf.nn.softmax_cross_entropy_with_logits(labels=tf_train_labels4, logits=logits5))\n",
    "    \n",
    "    logits6 = model(tf_train_dataset, layer9_weights, layer9_biases)\n",
    "    loss6 = tf.reduce_mean(\n",
    "    tf.nn.softmax_cross_entropy_with_logits(labels=tf_train_labels5, logits=logits6))\n",
    "    \n",
    "    loss = loss1 + loss2 + loss3 + loss4 + loss5 + loss6\n",
    "    \n",
    "    # Optimizer.    \n",
    "    global_step = tf.Variable(0)\n",
    "    learning_rate = tf.train.exponential_decay(0.04, global_step, 10000, 0.95)\n",
    "    optimizer = tf.train.AdagradOptimizer(learning_rate).minimize(loss, global_step=global_step)\n",
    "  \n",
    "    # Predictions for the training, validation, and test data.\n",
    "    train_prediction1 = tf.nn.softmax(logits1)\n",
    "    train_prediction2 = tf.nn.softmax(logits2)\n",
    "    train_prediction3 = tf.nn.softmax(logits3)\n",
    "    train_prediction4 = tf.nn.softmax(logits4)\n",
    "    train_prediction5 = tf.nn.softmax(logits5)\n",
    "    train_prediction6 = tf.nn.softmax(logits6)\n",
    "\n",
    "    test_prediction1 = tf.nn.softmax(model(tf_test_dataset, layer4_weights, layer4_biases))\n",
    "    test_prediction2 = tf.nn.softmax(model(tf_test_dataset, layer5_weights, layer5_biases))\n",
    "    test_prediction3 = tf.nn.softmax(model(tf_test_dataset, layer6_weights, layer6_biases))\n",
    "    test_prediction4 = tf.nn.softmax(model(tf_test_dataset, layer7_weights, layer7_biases))\n",
    "    test_prediction5 = tf.nn.softmax(model(tf_test_dataset, layer8_weights, layer8_biases))\n",
    "    test_prediction6 = tf.nn.softmax(model(tf_test_dataset, layer9_weights, layer9_biases))"
   ]
  },
  {
   "cell_type": "code",
   "execution_count": 14,
   "metadata": {
    "collapsed": false
   },
   "outputs": [
    {
     "name": "stdout",
     "output_type": "stream",
     "text": [
      "Initialized\n",
      "Minibatch loss at step 0: 27.998272\n",
      "Minibatch accuracy: 9.1%\n",
      "Test accuracy: 36.4%\n",
      "Minibatch loss at step 50: 6.970283\n",
      "Minibatch accuracy: 57.0%\n",
      "Minibatch loss at step 100: 6.439221\n",
      "Minibatch accuracy: 61.2%\n",
      "Minibatch loss at step 150: 5.515904\n",
      "Minibatch accuracy: 67.7%\n",
      "Minibatch loss at step 200: 4.800478\n",
      "Minibatch accuracy: 72.7%\n",
      "Minibatch loss at step 250: 4.353178\n",
      "Minibatch accuracy: 73.7%\n",
      "Minibatch loss at step 300: 2.828442\n",
      "Minibatch accuracy: 85.2%\n",
      "Minibatch loss at step 350: 2.375288\n",
      "Minibatch accuracy: 85.7%\n",
      "Minibatch loss at step 400: 2.069396\n",
      "Minibatch accuracy: 88.0%\n",
      "Minibatch loss at step 450: 2.159977\n",
      "Minibatch accuracy: 86.5%\n",
      "Minibatch loss at step 500: 1.529115\n",
      "Minibatch accuracy: 90.4%\n",
      "Test accuracy: 90.5%\n"
     ]
    }
   ],
   "source": [
    "num_steps = 501\n",
    "\n",
    "with tf.Session(graph=graph) as session:\n",
    "    tf.global_variables_initializer().run()\n",
    "    print('Initialized')\n",
    "    for step in range(num_steps):\n",
    "        offset = (step * batch_size) % (train_labels.shape[0] - batch_size)\n",
    "        batch_data = train_dataset[offset:(offset + batch_size), :, :, :]\n",
    "        batch_lengths = train_lengths[offset:(offset + batch_size), :]\n",
    "        batch_labels1 = train_labels[offset:(offset + batch_size), 0, :]\n",
    "        batch_labels2 = train_labels[offset:(offset + batch_size), 1, :]\n",
    "        batch_labels3 = train_labels[offset:(offset + batch_size), 2, :]\n",
    "        batch_labels4 = train_labels[offset:(offset + batch_size), 3, :]\n",
    "        batch_labels5 = train_labels[offset:(offset + batch_size), 4, :]\n",
    "\n",
    "        feed_dict = {tf_train_dataset : batch_data, tf_train_lengths : batch_lengths, tf_train_labels1 : batch_labels1,\n",
    "                     tf_train_labels2 : batch_labels2, tf_train_labels3 : batch_labels3, \n",
    "                     tf_train_labels4 : batch_labels4, tf_train_labels5 : batch_labels5,\n",
    "                    }\n",
    "        _, l, predictions1, predictions2, predictions3, predictions4, predictions5, predictions6 = session.run(\n",
    "      [optimizer, loss, train_prediction1, train_prediction2, train_prediction3, train_prediction4,\n",
    "      train_prediction5, train_prediction6], feed_dict=feed_dict)\n",
    "        if (step % 50 == 0):\n",
    "            print('Minibatch loss at step %d: %f' % (step, l))\n",
    "            print('Minibatch accuracy: %.1f%%'% ((accuracy(predictions1,batch_lengths) +\n",
    "                                                     accuracy(predictions2,batch_labels1) +\n",
    "                                                     accuracy(predictions3,batch_labels2) +\n",
    "                                                     accuracy(predictions4,batch_labels3) +\n",
    "                                                     accuracy(predictions5,batch_labels4) +\n",
    "                                                     accuracy(predictions6,batch_labels5))/6))\n",
    "        if (step % 500 == 0):\n",
    "            print('Test accuracy: %.1f%%' % ((accuracy(test_prediction1.eval(), test_lengths) +\n",
    "                                             accuracy(test_prediction2.eval(), test_labels[:,0,:]) +\n",
    "                                             accuracy(test_prediction3.eval(), test_labels[:,1,:]) +\n",
    "                                             accuracy(test_prediction4.eval(), test_labels[:,2,:]) +\n",
    "                                             accuracy(test_prediction5.eval(), test_labels[:,3,:]) +\n",
    "                                             accuracy(test_prediction6.eval(), test_labels[:,4,:]))/6))"
   ]
  },
  {
   "cell_type": "markdown",
   "metadata": {
    "collapsed": true
   },
   "source": [
    "We easily obtain a very good accuracy score after a couple of iterations."
   ]
  }
 ],
 "metadata": {
  "anaconda-cloud": {},
  "kernelspec": {
   "display_name": "Python [conda root]",
   "language": "python",
   "name": "conda-root-py"
  },
  "language_info": {
   "codemirror_mode": {
    "name": "ipython",
    "version": 3
   },
   "file_extension": ".py",
   "mimetype": "text/x-python",
   "name": "python",
   "nbconvert_exporter": "python",
   "pygments_lexer": "ipython3",
   "version": "3.5.2"
  }
 },
 "nbformat": 4,
 "nbformat_minor": 1
}
